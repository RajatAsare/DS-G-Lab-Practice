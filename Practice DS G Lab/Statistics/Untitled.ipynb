{
 "cells": [
  {
   "cell_type": "code",
   "execution_count": null,
   "metadata": {},
   "outputs": [],
   "source": [
    "# --------------\n",
    "#Header files\n",
    "import pandas as pd\n",
    "import numpy as np\n",
    "import matplotlib.pyplot as plt\n",
    "\n",
    "\n",
    "#path of the data file- path\n",
    "data=pd.read_csv(path)\n",
    "#Code starts here \n",
    "data['Gender'].replace('-','Agender', inplace=True)\n",
    "gender_count=data['Gender'].value_counts()\n",
    "gender_count.plot(kind='bar')\n",
    "\n",
    "\n",
    "# --------------\n",
    "#Code starts here\n",
    "alignment=data['Alignment'].value_counts()\n",
    "plt.pie(alignment)\n",
    "plt.title('Character Alignment')\n",
    "\n",
    "\n",
    "# --------------\n",
    "#Code starts here\n",
    "sc_df=data.loc[:,['Strength','Combat']]\n",
    "sc_covariance=sc_df.cov().iloc[0,1]\n",
    "sc_strength=sc_df['Strength'].std()\n",
    "sc_combat=sc_df['Combat'].std()\n",
    "sc_pearson=sc_covariance/(sc_strength*sc_combat)\n",
    "\n",
    "ic_df=data.loc[:,['Intelligence','Combat']]\n",
    "ic_covariance=ic_df.cov().iloc[0,1]\n",
    "ic_intelligence=ic_df['Intelligence'].std()\n",
    "ic_combat=ic_df['Combat'].std()\n",
    "ic_pearson=ic_covariance/(ic_intelligence*ic_combat)\n",
    "\n",
    "\n",
    "# --------------\n",
    "#Code starts here\n",
    "total_high=np.quantile(data['Total'], 0.99)\n",
    "super_best=data[data['Total']>=total_high]\n",
    "super_best_names=super_best['Name'].values.tolist()\n",
    "print(super_best_names)\n",
    "\n",
    "\n",
    "# --------------\n",
    "#Code starts here\n",
    "fig, (ax_1, ax_2,ax_3)=plt.subplots(3,1)\n",
    "ax_1.boxplot(super_best['Intelligence'])\n",
    "ax_2.boxplot(super_best['Speed'])\n",
    "ax_3.boxplot(super_best['Power'])\n",
    "\n",
    "\n"
   ]
  }
 ],
 "metadata": {
  "kernelspec": {
   "display_name": "Python 3",
   "language": "python",
   "name": "python3"
  },
  "language_info": {
   "codemirror_mode": {
    "name": "ipython",
    "version": 3
   },
   "file_extension": ".py",
   "mimetype": "text/x-python",
   "name": "python",
   "nbconvert_exporter": "python",
   "pygments_lexer": "ipython3",
   "version": "3.6.5"
  }
 },
 "nbformat": 4,
 "nbformat_minor": 2
}
